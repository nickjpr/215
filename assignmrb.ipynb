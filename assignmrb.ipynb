{
 "cells": [
  {
   "cell_type": "code",
   "execution_count": 3,
   "id": "732cc4a6",
   "metadata": {},
   "outputs": [
    {
     "name": "stdout",
     "output_type": "stream",
     "text": [
      "i am a rockstar\n"
     ]
    }
   ],
   "source": [
    "print (\"i am a rockstar\")"
   ]
  },
  {
   "cell_type": "code",
   "execution_count": 71,
   "id": "da889943",
   "metadata": {},
   "outputs": [
    {
     "name": "stdout",
     "output_type": "stream",
     "text": [
      "52.25vvjhbjhk\n"
     ]
    },
    {
     "data": {
      "text/plain": [
       "'vvjhbjhk'"
      ]
     },
     "execution_count": 71,
     "metadata": {},
     "output_type": "execute_result"
    }
   ],
   "source": [
    "input(e)"
   ]
  },
  {
   "cell_type": "code",
   "execution_count": 17,
   "id": "3ccfe0fd",
   "metadata": {},
   "outputs": [],
   "source": [
    "e = 'nick'\n"
   ]
  },
  {
   "cell_type": "code",
   "execution_count": 18,
   "id": "82928e0f",
   "metadata": {},
   "outputs": [
    {
     "data": {
      "text/plain": [
       "'nick'"
      ]
     },
     "execution_count": 18,
     "metadata": {},
     "output_type": "execute_result"
    }
   ],
   "source": [
    "e "
   ]
  },
  {
   "cell_type": "code",
   "execution_count": 7,
   "id": "4cb05410",
   "metadata": {},
   "outputs": [],
   "source": [
    " c = 89\n"
   ]
  },
  {
   "cell_type": "code",
   "execution_count": 8,
   "id": "49b32786",
   "metadata": {},
   "outputs": [
    {
     "data": {
      "text/plain": [
       "int"
      ]
     },
     "execution_count": 8,
     "metadata": {},
     "output_type": "execute_result"
    }
   ],
   "source": [
    "type (c)\n"
   ]
  },
  {
   "cell_type": "code",
   "execution_count": 9,
   "id": "78e8fb77",
   "metadata": {},
   "outputs": [],
   "source": [
    "d = 26+1j"
   ]
  },
  {
   "cell_type": "code",
   "execution_count": 10,
   "id": "c64238f5",
   "metadata": {},
   "outputs": [
    {
     "data": {
      "text/plain": [
       "complex"
      ]
     },
     "execution_count": 10,
     "metadata": {},
     "output_type": "execute_result"
    }
   ],
   "source": [
    "type (d)"
   ]
  },
  {
   "cell_type": "code",
   "execution_count": 11,
   "id": "78341b70",
   "metadata": {},
   "outputs": [
    {
     "data": {
      "text/plain": [
       "(26+1j)"
      ]
     },
     "execution_count": 11,
     "metadata": {},
     "output_type": "execute_result"
    }
   ],
   "source": [
    "d"
   ]
  },
  {
   "cell_type": "code",
   "execution_count": 12,
   "id": "48c277cb",
   "metadata": {},
   "outputs": [
    {
     "data": {
      "text/plain": [
       "(26+1j)"
      ]
     },
     "execution_count": 12,
     "metadata": {},
     "output_type": "execute_result"
    }
   ],
   "source": [
    "(26+1j)"
   ]
  },
  {
   "cell_type": "code",
   "execution_count": 26,
   "id": "4b01d90b",
   "metadata": {},
   "outputs": [
    {
     "data": {
      "text/plain": [
       "type"
      ]
     },
     "execution_count": 26,
     "metadata": {},
     "output_type": "execute_result"
    }
   ],
   "source": [
    "type (g)"
   ]
  },
  {
   "cell_type": "code",
   "execution_count": 27,
   "id": "6dcfaba7",
   "metadata": {},
   "outputs": [],
   "source": [
    "a=10"
   ]
  },
  {
   "cell_type": "code",
   "execution_count": 28,
   "id": "7e453681",
   "metadata": {},
   "outputs": [
    {
     "data": {
      "text/plain": [
       "10"
      ]
     },
     "execution_count": 28,
     "metadata": {},
     "output_type": "execute_result"
    }
   ],
   "source": [
    "a"
   ]
  },
  {
   "cell_type": "code",
   "execution_count": 29,
   "id": "8d5cb673",
   "metadata": {},
   "outputs": [],
   "source": [
    "a=20"
   ]
  },
  {
   "cell_type": "code",
   "execution_count": 30,
   "id": "be0bd4e2",
   "metadata": {},
   "outputs": [
    {
     "data": {
      "text/plain": [
       "20"
      ]
     },
     "execution_count": 30,
     "metadata": {},
     "output_type": "execute_result"
    }
   ],
   "source": [
    "a"
   ]
  },
  {
   "cell_type": "code",
   "execution_count": 31,
   "id": "44ae7014",
   "metadata": {},
   "outputs": [
    {
     "data": {
      "text/plain": [
       "20"
      ]
     },
     "execution_count": 31,
     "metadata": {},
     "output_type": "execute_result"
    }
   ],
   "source": [
    "a"
   ]
  },
  {
   "cell_type": "code",
   "execution_count": 32,
   "id": "5872c128",
   "metadata": {},
   "outputs": [],
   "source": [
    "a=5465\n",
    "b=\"nick\"\n",
    "c=6+6j\n",
    "d=True\n",
    "e=546.67"
   ]
  },
  {
   "cell_type": "code",
   "execution_count": 33,
   "id": "af9c202e",
   "metadata": {},
   "outputs": [
    {
     "data": {
      "text/plain": [
       "True"
      ]
     },
     "execution_count": 33,
     "metadata": {},
     "output_type": "execute_result"
    }
   ],
   "source": [
    "d"
   ]
  },
  {
   "cell_type": "code",
   "execution_count": 42,
   "id": "e5f73095",
   "metadata": {},
   "outputs": [
    {
     "data": {
      "text/plain": [
       "str"
      ]
     },
     "execution_count": 42,
     "metadata": {},
     "output_type": "execute_result"
    }
   ],
   "source": [
    "type(b)"
   ]
  },
  {
   "cell_type": "code",
   "execution_count": 39,
   "id": "8b913d28",
   "metadata": {},
   "outputs": [],
   "source": [
    "a=560"
   ]
  },
  {
   "cell_type": "code",
   "execution_count": 40,
   "id": "6a203d4a",
   "metadata": {},
   "outputs": [],
   "source": [
    "a1= 440"
   ]
  },
  {
   "cell_type": "code",
   "execution_count": 41,
   "id": "a1dc6ade",
   "metadata": {},
   "outputs": [
    {
     "data": {
      "text/plain": [
       "1000"
      ]
     },
     "execution_count": 41,
     "metadata": {},
     "output_type": "execute_result"
    }
   ],
   "source": [
    "a+a1"
   ]
  },
  {
   "cell_type": "code",
   "execution_count": 43,
   "id": "e6c8d0f1",
   "metadata": {},
   "outputs": [],
   "source": [
    "a,b,c,d,e = 546, \"nick\", 6+6j, False, 52.25"
   ]
  },
  {
   "cell_type": "code",
   "execution_count": 45,
   "id": "09dd1c6f",
   "metadata": {},
   "outputs": [
    {
     "data": {
      "text/plain": [
       "(6+6j)"
      ]
     },
     "execution_count": 45,
     "metadata": {},
     "output_type": "execute_result"
    }
   ],
   "source": [
    "c"
   ]
  },
  {
   "cell_type": "code",
   "execution_count": 55,
   "id": "4e615793",
   "metadata": {},
   "outputs": [
    {
     "data": {
      "text/plain": [
       "6.0"
      ]
     },
     "execution_count": 55,
     "metadata": {},
     "output_type": "execute_result"
    }
   ],
   "source": [
    "c.imag"
   ]
  },
  {
   "cell_type": "code",
   "execution_count": 49,
   "id": "e6ebad38",
   "metadata": {},
   "outputs": [
    {
     "data": {
      "text/plain": [
       "'nick'"
      ]
     },
     "execution_count": 49,
     "metadata": {},
     "output_type": "execute_result"
    }
   ],
   "source": [
    "b"
   ]
  },
  {
   "cell_type": "code",
   "execution_count": 56,
   "id": "5a67fd73",
   "metadata": {},
   "outputs": [
    {
     "data": {
      "text/plain": [
       "<function str.isdigit()>"
      ]
     },
     "execution_count": 56,
     "metadata": {},
     "output_type": "execute_result"
    }
   ],
   "source": [
    "b.isdigit"
   ]
  },
  {
   "cell_type": "code",
   "execution_count": 57,
   "id": "fb342570",
   "metadata": {},
   "outputs": [],
   "source": [
    "a = \"jaipur\""
   ]
  },
  {
   "cell_type": "code",
   "execution_count": 60,
   "id": "3fa61774",
   "metadata": {},
   "outputs": [
    {
     "data": {
      "text/plain": [
       "'jaipur4'"
      ]
     },
     "execution_count": 60,
     "metadata": {},
     "output_type": "execute_result"
    }
   ],
   "source": [
    "a + str(4)"
   ]
  },
  {
   "cell_type": "code",
   "execution_count": 62,
   "id": "7a86317e",
   "metadata": {},
   "outputs": [
    {
     "data": {
      "text/plain": [
       "2"
      ]
     },
     "execution_count": 62,
     "metadata": {},
     "output_type": "execute_result"
    }
   ],
   "source": [
    "True + True"
   ]
  },
  {
   "cell_type": "code",
   "execution_count": 63,
   "id": "4d60c264",
   "metadata": {},
   "outputs": [
    {
     "data": {
      "text/plain": [
       "1"
      ]
     },
     "execution_count": 63,
     "metadata": {},
     "output_type": "execute_result"
    }
   ],
   "source": [
    "True - False"
   ]
  },
  {
   "cell_type": "code",
   "execution_count": 64,
   "id": "b10a03fa",
   "metadata": {},
   "outputs": [
    {
     "data": {
      "text/plain": [
       "2"
      ]
     },
     "execution_count": 64,
     "metadata": {},
     "output_type": "execute_result"
    }
   ],
   "source": [
    "1 +True "
   ]
  },
  {
   "cell_type": "code",
   "execution_count": 65,
   "id": "329f987f",
   "metadata": {},
   "outputs": [
    {
     "name": "stdout",
     "output_type": "stream",
     "text": [
      "i am a rockstar divine fearless\n"
     ]
    },
    {
     "data": {
      "text/plain": [
       "'i am a rockstar divine fearless'"
      ]
     },
     "execution_count": 65,
     "metadata": {},
     "output_type": "execute_result"
    }
   ],
   "source": []
  },
  {
   "cell_type": "code",
   "execution_count": 67,
   "id": "3426edd1",
   "metadata": {},
   "outputs": [],
   "source": [
    "b=45 "
   ]
  },
  {
   "cell_type": "code",
   "execution_count": 69,
   "id": "394fa9db",
   "metadata": {},
   "outputs": [
    {
     "data": {
      "text/plain": [
       "444489"
      ]
     },
     "execution_count": 69,
     "metadata": {},
     "output_type": "execute_result"
    }
   ],
   "source": [
    "int(a)+b"
   ]
  },
  {
   "cell_type": "code",
   "execution_count": null,
   "id": "3593c752",
   "metadata": {},
   "outputs": [],
   "source": [
    "input()"
   ]
  }
 ],
 "metadata": {
  "kernelspec": {
   "display_name": "Python 3 (ipykernel)",
   "language": "python",
   "name": "python3"
  },
  "language_info": {
   "codemirror_mode": {
    "name": "ipython",
    "version": 3
   },
   "file_extension": ".py",
   "mimetype": "text/x-python",
   "name": "python",
   "nbconvert_exporter": "python",
   "pygments_lexer": "ipython3",
   "version": "3.9.7"
  }
 },
 "nbformat": 4,
 "nbformat_minor": 5
}
